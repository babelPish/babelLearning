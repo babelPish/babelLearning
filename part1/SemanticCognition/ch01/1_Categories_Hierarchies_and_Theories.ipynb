{
 "cells": [
  {
   "cell_type": "markdown",
   "metadata": {},
   "source": [
    "# 1 Categories, Hierarchies, and Theories"
   ]
  },
  {
   "cell_type": "markdown",
   "metadata": {},
   "source": [
    "* 바벨피쉬 / 바벨러닝 : 파트 1 - Semantic Cognition\n",
    "* 김무성    "
   ]
  },
  {
   "cell_type": "markdown",
   "metadata": {},
   "source": [
    "# Contents\n",
    "* Categorization-Based Models\n",
    "    - Hierarchical Structure\n",
    "    - Privileged Categories at Intermediate Levels of the Hierarchy\n",
    "    - Primacy in Lexical Acquisition and Dementia\n",
    "    - The Influence of Expertise\n",
    "* The Theory-Theory\n",
    "    - Category Coherence\n",
    "    - Differential Generalization of Different Types of Information\n",
    "    - Conceptual Reorganization\n",
    "    - The Importance of Causal Knowledge\n",
    "* Toward a Mechanistic Model of Semantic Knowledge\n",
    "* Summary"
   ]
  },
  {
   "cell_type": "markdown",
   "metadata": {},
   "source": [
    "#### 참고\n",
    "* [2] Memory - https://docs.google.com/viewer?url=http%3A%2F%2Fwww.appsychology.com%2FappsychPP%2Fappsychology%2FAPPsychNewPP%2FMemory%2FMemory.ppt\n",
    "* [3] Semantic Memory - https://docs.google.com/viewer?url=https%3A%2F%2Fus.sagepub.com%2Fsites%2Fdefault%2Ffiles%2Fupm-binaries%2F13843_Lecture__Chapter_8.ppt\n",
    "* [4] Semantic Memory - https://docs.google.com/viewer?url=http%3A%2F%2Fpsychology.illinoisstate.edu%2Fjccutti%2Fpsych368%2Flectures%2F17.memory12.ppt"
   ]
  },
  {
   "cell_type": "markdown",
   "metadata": {},
   "source": [
    "# Categorization-Based Models\n",
    "* Hierarchical Structure\n",
    "* Privileged Categories at Intermediate Levels of the Hierarchy\n",
    "* Primacy in Lexical Acquisition and Dementia\n",
    "* The Influence of Expertise"
   ]
  },
  {
   "cell_type": "markdown",
   "metadata": {},
   "source": [
    "1. Socrates is a man.\n",
    "2. All men are mortal.\n",
    "3. Therefore, Socrates is mortal."
   ]
  },
  {
   "cell_type": "markdown",
   "metadata": {},
   "source": [
    "<img src=\"figures/cap1.1.png\" width=800 />"
   ]
  },
  {
   "cell_type": "markdown",
   "metadata": {},
   "source": [
    "## Hierarchical Structure"
   ]
  },
  {
   "cell_type": "markdown",
   "metadata": {},
   "source": [
    "<img src=\"figures/cap1.2.png\" width=800 />"
   ]
  },
  {
   "cell_type": "markdown",
   "metadata": {},
   "source": [
    "<img src=\"figures/cap1.3.png\" width=800 />\n",
    "<img src=\"figures/cap1.4.png\" width=800 />\n",
    "<img src=\"figures/cap1.5.png\" width=800 />"
   ]
  },
  {
   "cell_type": "markdown",
   "metadata": {},
   "source": [
    "<img src=\"figures/cap1.6.png\" width=800 />"
   ]
  },
  {
   "cell_type": "markdown",
   "metadata": {},
   "source": [
    "<img src=\"figures/cap1.7.png\" width=800 />"
   ]
  },
  {
   "cell_type": "markdown",
   "metadata": {},
   "source": [
    "## Privileged Categories at Intermediate Levels of the Hierarchy"
   ]
  },
  {
   "cell_type": "markdown",
   "metadata": {},
   "source": [
    "1. Subjects are fastest to verify membership at the basic level. \n",
    "2. They prefer to use the basic label in picture-naming tasks. They are fastest to discriminate objects at the basic level.\n",
    "3. They show a larger effect of visual priming to the basic label. \n",
    "4. Children first learn to name objects with their basic-level name."
   ]
  },
  {
   "cell_type": "markdown",
   "metadata": {},
   "source": [
    "For example, a picture of a sparrow might directly activate the concept bird, whereas a picture of an ostrich might first activate the concept ostrich. Consequently, subjects are fastest to verify category membership at the ‘‘basic’’ level for the sparrow, but at a more specific level for the ostrich."
   ]
  },
  {
   "cell_type": "markdown",
   "metadata": {},
   "source": [
    "## Primacy in Lexical Acquisition and Dementia"
   ]
  },
  {
   "cell_type": "markdown",
   "metadata": {},
   "source": [
    "* Rosch’s (Rosch et al. 1976) studies of children’s naming, however, have proven more robust; it is now well accepted that children can name many objects with the correct basic label before being able to name them at more general or specific levels (Brown 1958; Chapman and Mervis 1989). Mervis (Mervis 1984, 1987a) and others (e.g., Anglin 1977) have taken this as evidence that children acquire basic category representations first in development.\n",
    "* Interestingly, semantic dementia patients show a similar preservation of some basic-level names as their disease progresses. For example, in a picture-naming task, patient J. L. showed preserva- tion of the basic-level names ‘‘dog,’’ ‘‘cat,’’ and ‘‘horse’’ after he had lost such names for other animals, and indeed overextended these labels to other, similar animals, naming many large animals ‘‘horse,’’ medium-sized animals ‘‘dog,’’ and small animals ‘‘cat’’ (Hodges, Graham, and Patterson 1995).\n",
    "* In general, there is a ten- dency for relatively frequent basic-level labels to be preserved and sometimes overextended, even while the patient appears to have only very general information about many other concepts."
   ]
  },
  {
   "cell_type": "markdown",
   "metadata": {},
   "source": [
    "## The Influence of Expertise"
   ]
  },
  {
   "cell_type": "markdown",
   "metadata": {},
   "source": [
    "<img src=\"figures/cap1.8.png\" width=800 />"
   ]
  },
  {
   "cell_type": "markdown",
   "metadata": {},
   "source": [
    "<img src=\"figures/cap1.9.png\" width=800 />"
   ]
  },
  {
   "cell_type": "markdown",
   "metadata": {},
   "source": [
    "<img src=\"figures/cap1.10.png\" width=800 />"
   ]
  },
  {
   "cell_type": "markdown",
   "metadata": {},
   "source": [
    "# The Theory-Theory\n",
    "* Category Coherence\n",
    "* Differential Generalization of Different Types of Information\n",
    "* Conceptual Reorganization\n",
    "* The Importance of Causal Knowledge"
   ]
  },
  {
   "cell_type": "markdown",
   "metadata": {},
   "source": [
    "#### 참고\n",
    "* [5] Theory-theory - https://en.wikipedia.org/wiki/Theory-theory"
   ]
  },
  {
   "cell_type": "markdown",
   "metadata": {},
   "source": [
    "In this section we will review what we consider to be the core issues raised within the theory-theory framework, and the empirical phenomena they encompass. While some of the issues overlap with those discussed above in the context of categorization-based models, others have yet to be addressed. Thus, this review will allow us to identify further difficulties with categorization-based approaches, and to identify additional empirical findings to be addressed in the simulations in later chapters.\n"
   ]
  },
  {
   "cell_type": "markdown",
   "metadata": {},
   "source": [
    "## Category Coherence"
   ]
  },
  {
   "cell_type": "markdown",
   "metadata": {},
   "source": [
    "The first issue concerns what Murphy and Medin (1985) have re- ferred to as category coherence—that is, the tendency for some groupings of objects to ‘‘hang together’’ in seemingly natural cate- gories, whereas other groupings do not. "
   ]
  },
  {
   "cell_type": "markdown",
   "metadata": {},
   "source": [
    "Under the theory-theory, the constraints that determine which properties are important for which concepts in which tasks—and hence, which concepts are coherent and which are not—derive from naive theories about the causal forces by which properties inhere in objects."
   ]
  },
  {
   "cell_type": "markdown",
   "metadata": {},
   "source": [
    "## Differential Generalization of Different Types of Information"
   ]
  },
  {
   "cell_type": "markdown",
   "metadata": {},
   "source": [
    "A second challenge posed by the theory-theory stems from the ob- servation that human beings are able to generalize different types of information in different ways. "
   ]
  },
  {
   "cell_type": "markdown",
   "metadata": {},
   "source": [
    "In one study, children were shown a picture of a brontosaurus and a picture of a rhinoc- eros. They were taught the names of the animals (‘‘dinosaur’’ and ‘‘rhino’’), and a new fact about each. Half the children were taught a biological fact (e.g., the dinosaur has cold blood, but the rhino has warm blood), and half were taught a physical property (e.g., the dinosaur weighs ten tons, but the rhino weighs one ton). The children were then shown a picture of a triceratops, which they were told was another kind of dinosaur; however, the triceratops more closely resembled the rhinoceros."
   ]
  },
  {
   "cell_type": "markdown",
   "metadata": {},
   "source": [
    "Taxanomic organization imposes further unnecessary restric- tions on the relationships that can be represented in categorization- based theories. For example, a biological taxonomy of animal concepts has no means of encoding the important similarities that exist among domestic animals, which distinguish these from wild animals. In the biological taxonomy, dogs are more similar to wolves than to cats; however, there are many properties shared by cats and dogs but not by wolves, which are captured by the con- cept pet—for example, they are tame, friendly, companionable, and so on. These properties may be stored separately with each in- dividual concept to which they apply, but such a scheme fails to capture the important regularities shared by all pets."
   ]
  },
  {
   "cell_type": "markdown",
   "metadata": {},
   "source": [
    "The alternative offered by the theory-theory is that generalization and induction of semantic information are partially governed by naive theories appropriate to the domain (Carey 1985)."
   ]
  },
  {
   "cell_type": "markdown",
   "metadata": {},
   "source": [
    "Although this idea seems reasonable enough, it is worth point- ing out that it raises many of the same questions unanswered by categorization-based models. How does the system know which domain theories are appropriate to which phenomena?"
   ]
  },
  {
   "cell_type": "markdown",
   "metadata": {},
   "source": [
    "## Conceptual Reorganization"
   ]
  },
  {
   "cell_type": "markdown",
   "metadata": {},
   "source": [
    "A third challenge posed by the theory-theory stems from studies of developmental change in children’s inductive projection of prop- erties of one object to other objects."
   ]
  },
  {
   "cell_type": "markdown",
   "metadata": {},
   "source": [
    "An influential series of studies by Carey (1985) suggests that children’s conceptual knowledge undergoes substantial reorganization over development. In one ex- periment, children were shown pictures of unusual and presum- ably unfamiliar animals (such as aardvarks and dodo birds) and were asked to decide whether each had particular biological prop- erties (e.g., Does the aardvark have a heart? Does the dodo bird sleep? See Carey 1985)."
   ]
  },
  {
   "cell_type": "markdown",
   "metadata": {},
   "source": [
    "On the basis of these and many more related data, Carey (1985) has argued that the representations and processes that govern human performance in these kinds of induction tasks undergo a radical reorganization between the ages of 4 and 10."
   ]
  },
  {
   "cell_type": "markdown",
   "metadata": {},
   "source": [
    "## The Importance of Causal Knowledge"
   ]
  },
  {
   "cell_type": "markdown",
   "metadata": {},
   "source": [
    "Finally, research in the theory-theory framework has led to an in- creasing appreciation of the important role causal knowledge plays in semantic cognition. By causal knowledge, we mean a person’s knowledge about the causal relationships that exist between dif- ferent objects, as well as knowledge about the causal mechanisms by which particular properties inhere in objects. Much of the re- search encompassed by the theory-theory has focused on doc- umenting the ways that causal knowledge can influence semantic task performance."
   ]
  },
  {
   "cell_type": "markdown",
   "metadata": {},
   "source": [
    "Theory-theorists have also pointed out that categorization-based theories fail to capture another potentially important aspect of semantic cognition"
   ]
  },
  {
   "cell_type": "markdown",
   "metadata": {},
   "source": [
    "for example, they may explain how children are able to correctly conclude that the echidna can move up and down the hill by itself—but the accounts such theories offer preclude a concurrent understanding of the explicit causal explanations children provide for their own decisions. That is, categorization-based theories may explain a subject’s behavior in semantic tasks, but without additional constructs, they cannot explain the causal-explanatory ‘‘reasons’’ subjects give for this behavior."
   ]
  },
  {
   "cell_type": "markdown",
   "metadata": {},
   "source": [
    "In summary, the theory-theory raises a number of issues that we believe seriously challenge the sufficiency of categorization-based approaches to semantic cognition. "
   ]
  },
  {
   "cell_type": "markdown",
   "metadata": {},
   "source": [
    "<img src=\"figures/cap1.11.png\" width=800 />"
   ]
  },
  {
   "cell_type": "markdown",
   "metadata": {},
   "source": [
    "# Toward a Mechanistic Model of Semantic Knowledge"
   ]
  },
  {
   "cell_type": "markdown",
   "metadata": {},
   "source": [
    "Based on considerations such as these, Rumelhart et al. (1986c) argued that perhaps the best approach would be to view knowledge of a particular kind of thing not as a prespecified cognitive entity (whether it be called a concept, a category, a schema, or something else), but as an emergent property of an underlyingly connectionist semantic system. This is the approach that will be taken throughout the rest of this book."
   ]
  },
  {
   "cell_type": "markdown",
   "metadata": {},
   "source": [
    "# Summary"
   ]
  },
  {
   "cell_type": "markdown",
   "metadata": {
    "collapsed": true
   },
   "source": [
    "# 참고자료\n",
    "* [1]\n",
    "* [2] Memory - https://docs.google.com/viewer?url=http%3A%2F%2Fwww.appsychology.com%2FappsychPP%2Fappsychology%2FAPPsychNewPP%2FMemory%2FMemory.ppt\n",
    "* [3] Semantic Memory - https://docs.google.com/viewer?url=https%3A%2F%2Fus.sagepub.com%2Fsites%2Fdefault%2Ffiles%2Fupm-binaries%2F13843_Lecture__Chapter_8.ppt\n",
    "* [4] Semantic Memory - https://docs.google.com/viewer?url=http%3A%2F%2Fpsychology.illinoisstate.edu%2Fjccutti%2Fpsych368%2Flectures%2F17.memory12.ppt\n",
    "* [5] Theory-theory - https://en.wikipedia.org/wiki/Theory-theory"
   ]
  },
  {
   "cell_type": "code",
   "execution_count": null,
   "metadata": {
    "collapsed": true
   },
   "outputs": [],
   "source": []
  }
 ],
 "metadata": {
  "kernelspec": {
   "display_name": "Python 3",
   "language": "python",
   "name": "python3"
  },
  "language_info": {
   "codemirror_mode": {
    "name": "ipython",
    "version": 3
   },
   "file_extension": ".py",
   "mimetype": "text/x-python",
   "name": "python",
   "nbconvert_exporter": "python",
   "pygments_lexer": "ipython3",
   "version": "3.4.3"
  }
 },
 "nbformat": 4,
 "nbformat_minor": 0
}
